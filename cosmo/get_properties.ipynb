{
 "cells": [
  {
   "cell_type": "code",
   "execution_count": 1,
   "metadata": {},
   "outputs": [],
   "source": [
    "import numpy as np\n",
    "import pandas as pd\n",
    "\n",
    "from routines import ReadCOSMOthermGamma, ReadCOSMOthermExcess, ReadCOSMOthermIsotherm\n",
    "\n",
    "param_str = 'TZVP'\n",
    "\n",
    "fes_vec = ['c2mim_hdfs_pfpa', 'tba_nfs_pfpa', 'tbp_br_pfpa']\n",
    "hfc_vec = ['difluoromethane', '1,1,1,2-tetrafluoroethane', 'pentafluoroethane']\n",
    "hfc_nom = {'difluoromethane': 'R32', '1,1,1,2-tetrafluoroethane': 'R134a', 'pentafluoroethane': 'R125'}\n",
    "rdes_str = '[1_2]'\n",
    "\n",
    "T = 303.15"
   ]
  },
  {
   "cell_type": "markdown",
   "metadata": {},
   "source": [
    "# Activity coefficients"
   ]
  },
  {
   "cell_type": "code",
   "execution_count": 2,
   "metadata": {},
   "outputs": [],
   "source": [
    "inp_str = 'activity_coefficients/'\n",
    "out_str = 'activity_coefficients/'\n",
    "\n",
    "for i,fes in enumerate(fes_vec):\n",
    "    COSMO = ReadCOSMOthermGamma(inp_str+fes+'-ActivityCoefficients-'+param_str+'.tab')\n",
    "    for j,hfc in enumerate(hfc_vec):\n",
    "        x1, gamma = np.array(COSMO[(T)][0]), np.array(COSMO[(T)][1])\n",
    "        x1, gamma = np.array(x1)*2, np.array(gamma)\n",
    "        x1, gamma = np.append(x1, 0), np.append(gamma, 1)\n",
    "        sort_ndx = np.argsort(x1)\n",
    "        x1, gamma = x1[sort_ndx], gamma[sort_ndx]\n",
    "        np.savetxt(out_str+fes+'-'+param_str+'.out', np.array([x1, gamma]).T, header='x1\\tg_HBD', fmt='%.8f', delimiter='\\t')"
   ]
  },
  {
   "cell_type": "markdown",
   "metadata": {},
   "source": [
    "# Excess properties"
   ]
  },
  {
   "cell_type": "code",
   "execution_count": 3,
   "metadata": {},
   "outputs": [],
   "source": [
    "inp_str = 'excess_properties/'\n",
    "out_str = 'excess_properties/'\n",
    "\n",
    "x1, HE, GE, HE_mf, HE_hb, HE_vdw, HE_conf = [], [], [], [], [], [], []\n",
    "for i,fes in enumerate(fes_vec):\n",
    "    HE_aux, GE_aux, HE_mf_aux, HE_hb_aux, HE_vdw_aux, HE_conf_aux = [], [], [], [], [], []\n",
    "    data_inp = inp_str+fes+rdes_str+'-ExcessProperties-'+param_str+'.tab'\n",
    "    COSMO = ReadCOSMOthermExcess(data_inp)\n",
    "    for j,hfc in enumerate(hfc_vec):\n",
    "        x1.append(COSMO[(T, hfc)][0][0])\n",
    "        HE_aux.append(COSMO[(T, hfc)][1][0]), GE_aux.append(COSMO[(T, hfc)][2][0])\n",
    "        HE_mf_aux.append(COSMO[(T, hfc)][3][0]), HE_hb_aux.append(COSMO[(T, hfc)][4][0])\n",
    "        HE_vdw_aux.append(COSMO[(T, hfc)][5][0]), HE_conf_aux.append(COSMO[(T, hfc)][6][0])\n",
    "    HE.append(HE_aux), GE.append(GE_aux)\n",
    "    HE_mf.append(HE_mf_aux), HE_hb.append(HE_hb_aux), HE_vdw.append(HE_vdw_aux), HE_conf.append(HE_conf_aux)\n",
    "\n",
    "for i,fes in enumerate(fes_vec):\n",
    "    with open('excess_properties/'+fes+rdes_str+'-'+param_str+'.out', 'w') as f:\n",
    "        f.write('# HFC\\tG^E/kJ/mol\\tH^E/kJ/mol\\tH^E_vdw/kJ/mol\\tH^E_hb/kJ/mol\\tH^E_mf/kJ/mol\\n')\n",
    "        for j,hfc in enumerate(hfc_vec):\n",
    "            f.write(f'{hfc_nom[hfc]}\\t{GE[i][j]:.8f}\\t{HE[i][j]:.8f}\\t{HE_vdw[i][j]:.8f}\\t{HE_hb[i][j]:.8f}\\t{HE_mf[i][j]:.8f}\\n')"
   ]
  },
  {
   "cell_type": "markdown",
   "metadata": {},
   "source": [
    "# Solubility isotherms"
   ]
  },
  {
   "cell_type": "code",
   "execution_count": 4,
   "metadata": {},
   "outputs": [],
   "source": [
    "inp_str = 'isotherms/'\n",
    "out_str = 'isotherms/'\n",
    "\n",
    "for i,fes in enumerate(fes_vec):\n",
    "    COSMO = ReadCOSMOthermIsotherm(inp_str+fes+rdes_str+'-SolubilityIsotherms-'+param_str+'.tab')\n",
    "    for j,hfc in enumerate(hfc_vec):\n",
    "        X1, Y1, P = np.array(COSMO[(T, hfc)][0]), np.array(COSMO[(T, hfc)][1]), np.array(COSMO[(T, hfc)][2])\n",
    "        np.savetxt(out_str+hfc_nom[hfc]+'+'+fes+rdes_str+'-'+param_str+'.out', np.array([X1, Y1, P]).T, header='x1\\ty1\\tP/MPa', delimiter='\\t', fmt='%.8f')"
   ]
  },
  {
   "cell_type": "markdown",
   "metadata": {},
   "source": [
    "# $\\sigma$-profiles"
   ]
  },
  {
   "cell_type": "code",
   "execution_count": 14,
   "metadata": {},
   "outputs": [],
   "source": [
    "mol_vec = ['difluoromethane', '1,1,1,2-tetrafluoroethane', 'pentafluoroethane', \n",
    "                '1-ethyl-3-methyl-imidazolium', 'perfluorooctanesulfonate', 'tetra-n-butylammonium', 'perfluorobutanesulfonate', 'tetra-n-butylphosphonium', 'br', \n",
    "                'perfluoropentanoic_acid']\n",
    "inp_str = 'sigma_profiles/'\n",
    "out_str = 'sigma_profiles/'\n",
    "\n",
    "data = pd.read_excel(inp_str+param_str+'.xlsx', sheet_name=None)\n",
    "svec, psvec = [], []\n",
    "for i in range(len(mol_vec)):\n",
    "    svec = data[mol_vec[i]]['s [e/A^2]'].values\n",
    "    psvec.append(data[mol_vec[i]]['p(s)'].values)\n",
    "ps_r32, ps_r134a, ps_r125, ps_c2m, ps_hdfs, ps_tba, ps_nfs, ps_tbp, ps_br, ps_pfpa = psvec\n",
    "msvec = []\n",
    "for i,fes in enumerate(fes_vec):\n",
    "    msvec.append(data[fes+'-1_2']['m(s)'].values)\n",
    "ms_fes1, ms_fes2, ms_fes3 = msvec\n",
    "xfes = np.array([1, 1, 2])/np.sum([1, 1, 2])\n",
    "ps_fes1 = (xfes[0]*ps_c2m + xfes[1]*ps_hdfs + xfes[2]*ps_pfpa)\n",
    "ps_fes2 = (xfes[0]*ps_tba +  xfes[1]*ps_nfs + xfes[2]*ps_pfpa)\n",
    "ps_fes3 = (xfes[0]*ps_tbp +   xfes[1]*ps_br + xfes[2]*ps_pfpa)\n",
    "\n",
    "ps_con = [ps_c2m, ps_tba, ps_tbp]\n",
    "ps_aon = [ps_hdfs, ps_nfs, ps_br]\n",
    "ps_hbd = ps_pfpa\n",
    "np.savetxt(out_str+'sprof_fes-'+param_str+'.out', \n",
    "           np.array([svec, ps_con[0], ps_aon[0], ps_con[1], ps_aon[1], ps_con[2], ps_aon[2], ps_hbd, ps_fes1, ps_fes2, ps_fes3]).T,\n",
    "              header='  s/e/A2\\t    pC2mim\\t     pHDFS\\t      pTBA\\t      pNFS\\t      pTBP\\t       pBr\\t     pPFPA\\t     pFES1\\t     pFES2\\t     pFES3',\n",
    "              fmt='%10.5f', delimiter='\\t')\n",
    "np.savetxt(out_str+'spot_fes-'+param_str+'.out',\n",
    "           np.array([svec, ms_fes1, ms_fes2, ms_fes3]).T,\n",
    "              header='  s/e/A2\\t    muFES1\\t    muFES2\\t    muFES3',\n",
    "              fmt='%10.5f', delimiter='\\t')"
   ]
  },
  {
   "cell_type": "code",
   "execution_count": null,
   "metadata": {},
   "outputs": [],
   "source": []
  }
 ],
 "metadata": {
  "kernelspec": {
   "display_name": "cosmo",
   "language": "python",
   "name": "python3"
  },
  "language_info": {
   "codemirror_mode": {
    "name": "ipython",
    "version": 3
   },
   "file_extension": ".py",
   "mimetype": "text/x-python",
   "name": "python",
   "nbconvert_exporter": "python",
   "pygments_lexer": "ipython3",
   "version": "3.13.5"
  }
 },
 "nbformat": 4,
 "nbformat_minor": 2
}
