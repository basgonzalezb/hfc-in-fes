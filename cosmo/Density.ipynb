{
 "cells": [
  {
   "cell_type": "code",
   "execution_count": 1,
   "metadata": {},
   "outputs": [],
   "source": [
    "import numpy as np\n",
    "import pandas as pd\n",
    "import matplotlib.pyplot as plt\n",
    "from routines import ReadCOSMOthermDensity\n",
    "\n",
    "inp_str = 'density/'\n",
    "param_str = 'TZVP'\n",
    "T = 303.15"
   ]
  },
  {
   "cell_type": "code",
   "execution_count": 24,
   "metadata": {},
   "outputs": [],
   "source": [
    "des_vec = ['c2mim_hdfs_pfpa', 'tba_nfs_pfpa', 'tbp_br_pfpa']\n",
    "mwct_vec = [111.17, 242.46, 259.42]\n",
    "mwan_vec = [499.12, 299.09, 79.91]\n",
    "mwhbd = 264.05\n",
    "mw_vec = []\n",
    "rdes_vec = np.array([3, 2.5, 2, 1.5, 1, 0.5, 0.1])\n",
    "\n",
    "i = 0\n",
    "mw_vec_aux = []\n",
    "des_inp = des_vec[i]\n",
    "xhba, rho = ReadCOSMOthermDensity(inp_str+des_inp+'-Density-'+param_str+'.tab')[(T)]\n",
    "xhba, rho = np.array(xhba), np.array(rho)\n",
    "mw_vec_aux.append(mwct_vec[i]*xhba/2 + mwan_vec[i]*xhba/2 + mwhbd*(1-xhba))\n",
    "mw_vec.append(mw_vec_aux)\n",
    "xhba = xhba/2*(2+rdes_vec)/(1+rdes_vec)\n",
    "rho = rho/mw_vec_aux*1e3"
   ]
  },
  {
   "cell_type": "code",
   "execution_count": null,
   "metadata": {},
   "outputs": [],
   "source": []
  }
 ],
 "metadata": {
  "kernelspec": {
   "display_name": "MD",
   "language": "python",
   "name": "python3"
  },
  "language_info": {
   "codemirror_mode": {
    "name": "ipython",
    "version": 3
   },
   "file_extension": ".py",
   "mimetype": "text/x-python",
   "name": "python",
   "nbconvert_exporter": "python",
   "pygments_lexer": "ipython3",
   "version": "3.12.2"
  }
 },
 "nbformat": 4,
 "nbformat_minor": 2
}
