{
 "cells": [
  {
   "cell_type": "markdown",
   "metadata": {},
   "source": [
    "Here, we simply extract the computed excess properties from COMO-RS results, which are saved as .tab files. We save the results in the .out files."
   ]
  },
  {
   "cell_type": "code",
   "execution_count": 3,
   "metadata": {},
   "outputs": [],
   "source": [
    "import numpy as np\n",
    "import pandas as pd\n",
    "import matplotlib.pyplot as plt\n",
    "\n",
    "from routines import ReadCOSMOthermExcess\n",
    "\n",
    "T = 303.15\n",
    "param_str = 'TZVP'\n",
    "hfc_list = ['difluoromethane', '1,1,1,2-tetrafluoroethane', 'pentafluoroethane']\n",
    "des_list = ['c2mim_hdfs_pfpa[1_2]', 'tba_nfs_pfpa[1_2]', 'tbp_br_pfpa[1_2]']"
   ]
  },
  {
   "cell_type": "code",
   "execution_count": 7,
   "metadata": {},
   "outputs": [],
   "source": [
    "x1_ndx = 0\n",
    "x1, HE, GE, HE_mf, HE_hb, HE_vdw, HE_conf = [], [], [], [], [], [], []\n",
    "for i,des_str in enumerate(des_list):\n",
    "    HE_aux, GE_aux, HE_mf_aux, HE_hb_aux, HE_vdw_aux, HE_conf_aux = [], [], [], [], [], []\n",
    "    data_inp = 'excess_properties/'+des_str+'-ExcessProperties-'+param_str+'.tab'\n",
    "    COSMO = ReadCOSMOthermExcess(data_inp)\n",
    "    for j,hfc_str in enumerate(hfc_list):\n",
    "        x1.append(COSMO[(T, hfc_str)][0][x1_ndx])\n",
    "        HE_aux.append(COSMO[(T, hfc_str)][1][x1_ndx]), GE_aux.append(COSMO[(T, hfc_str)][2][x1_ndx])\n",
    "        HE_mf_aux.append(COSMO[(T, hfc_str)][3][x1_ndx]), HE_hb_aux.append(COSMO[(T, hfc_str)][4][x1_ndx])\n",
    "        HE_vdw_aux.append(COSMO[(T, hfc_str)][5][x1_ndx]), HE_conf_aux.append(COSMO[(T, hfc_str)][6][x1_ndx])\n",
    "    HE.append(HE_aux), GE.append(GE_aux)\n",
    "    HE_mf.append(HE_mf_aux), HE_hb.append(HE_hb_aux), HE_vdw.append(HE_vdw_aux), HE_conf.append(HE_conf_aux)"
   ]
  },
  {
   "cell_type": "code",
   "execution_count": null,
   "metadata": {},
   "outputs": [],
   "source": [
    "# save data for gnuplot bar plot\n",
    "hfc_label = ['R32', 'R134a', 'R125']\n",
    "for i,des_str in enumerate(des_list):\n",
    "    data_out = 'excess_properties/'+des_str+'-'+param_str+'.out'\n",
    "    with open(data_out, 'w') as f:\n",
    "        f.write('# F-gas\\tG^E\\tH^E\\tH^E_vdw\\tH^E_hb\\tH^E_mf\\n')\n",
    "        for j,hfc_str in enumerate(hfc_label):\n",
    "            f.write(f'{hfc_str}\\t{GE[i][j]:.3f}\\t{HE[i][j]:.3f}\\t{HE_vdw[i][j]:.3f}\\t{HE_hb[i][j]:.3f}\\t{HE_mf[i][j]:.3f}\\n')"
   ]
  },
  {
   "cell_type": "code",
   "execution_count": null,
   "metadata": {},
   "outputs": [],
   "source": []
  }
 ],
 "metadata": {
  "kernelspec": {
   "display_name": "MD",
   "language": "python",
   "name": "python3"
  },
  "language_info": {
   "codemirror_mode": {
    "name": "ipython",
    "version": 3
   },
   "file_extension": ".py",
   "mimetype": "text/x-python",
   "name": "python",
   "nbconvert_exporter": "python",
   "pygments_lexer": "ipython3",
   "version": "3.12.2"
  }
 },
 "nbformat": 4,
 "nbformat_minor": 2
}
